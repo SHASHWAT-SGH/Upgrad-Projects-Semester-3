{
 "cells": [
  {
   "cell_type": "code",
   "execution_count": 5,
   "id": "b5631f40",
   "metadata": {},
   "outputs": [
    {
     "name": "stdout",
     "output_type": "stream",
     "text": [
      "Enter name: peter\n",
      "Enter age: 7\n",
      "Enter gender: male\n",
      "Enter height (in inches): 45\n",
      "Enter weight (in pounds): 60\n",
      "The minimum calorie required by peter is 1800\n",
      "Enter milk taken by the child today (in grams): 300\n",
      "Enter egg taken by the child today (in grams): 300\n",
      "Enter rice taken by the child today (in grams): 200\n",
      "Enter lentils taken by the child today (in grams): 100\n",
      "Enter vegetables taken by the child today (in grams): 300\n",
      "Enter meat taken by the child today (in grams): 300\n",
      "Healthy\n",
      "20.82962962962963\n"
     ]
    }
   ],
   "source": [
    "name = input(\"Enter name: \")\n",
    "age = int(input(\"Enter age: \"))\n",
    "gender = input(\"Enter gender: \")\n",
    "height = float(input(\"Enter height (in inches): \"))\n",
    "weight = float(input(\"Enter weight (in pounds): \"))\n",
    "\n",
    "if(age>0 and age<2):\n",
    "    required_calorie = 800\n",
    "elif(age>=2 and age<4):\n",
    "    required_calorie = 1400\n",
    "elif(age>=4 and age<8):\n",
    "    required_calorie = 1800\n",
    "else:\n",
    "    print(\"Age shpuld be between 0-8 years.\")\n",
    "    exit()\n",
    "    \n",
    "print(f\"The minimum calorie required by {name} is {required_calorie}\")\n",
    "bmi = (weight/(height**2))*703\n",
    "\n",
    "\n",
    "if(bmi<16):\n",
    "    health = \"Severly underweight\"\n",
    "elif(bmi>=16 and bmi<18.5):\n",
    "    health=\"Underweight\"\n",
    "elif(bmi>=18.5 and bmi<25):\n",
    "    health=\"Healthy\"\n",
    "elif(bmi>=25 and bmi<35):\n",
    "    health = \"Overweight\"\n",
    "elif(bmi>=30):\n",
    "    health = \"Obese\"\n",
    "print(f\"BMI of {name} is {bmi} and he/she is {health}\")\n",
    "\n",
    "milk = int(input(\"Enter milk taken by the child today (in grams): \"))*100/100\n",
    "egg = int(input(\"Enter egg taken by the child today (in grams): \"))*155/100\n",
    "rice = int(input(\"Enter rice taken by the child today (in grams): \"))*130/100\n",
    "lentils = int(input(\"Enter lentils taken by the child today (in grams): \"))*113/100\n",
    "vegetables = int(input(\"Enter vegetables taken by the child today (in grams): \"))*85/100\n",
    "meat = int(input(\"Enter meat taken by the child today (in grams): \"))*143/100\n",
    "\n",
    "total_calorie = milk+egg+rice+lentils+vegetables+meat\n",
    "if total_calorie_calorie < required_calorie:\n",
    "    print(f\"{name} is under nourished.\")\n",
    "else:\n",
    "    print(f\"{name} is not under nourished.\")"
   ]
  }
 ],
 "metadata": {
  "kernelspec": {
   "display_name": "Python 3",
   "language": "python",
   "name": "python3"
  },
  "language_info": {
   "codemirror_mode": {
    "name": "ipython",
    "version": 3
   },
   "file_extension": ".py",
   "mimetype": "text/x-python",
   "name": "python",
   "nbconvert_exporter": "python",
   "pygments_lexer": "ipython3",
   "version": "3.8.8"
  }
 },
 "nbformat": 4,
 "nbformat_minor": 5
}
